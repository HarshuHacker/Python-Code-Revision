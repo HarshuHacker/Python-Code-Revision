{
 "cells": [
  {
   "cell_type": "markdown",
   "metadata": {},
   "source": [
    "There Is Not Limit On The Size Of Integer.\n",
    "It Depends On The Memory Allocated To Python By The System"
   ]
  }
 ],
 "metadata": {
  "language_info": {
   "name": "python"
  }
 },
 "nbformat": 4,
 "nbformat_minor": 2
}
